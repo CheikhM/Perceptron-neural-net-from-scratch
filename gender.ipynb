{
 "cells": [
  {
   "cell_type": "code",
   "execution_count": 1,
   "metadata": {
    "collapsed": true
   },
   "outputs": [],
   "source": [
    "%matplotlib inline"
   ]
  },
  {
   "cell_type": "code",
   "execution_count": 2,
   "metadata": {
    "collapsed": true
   },
   "outputs": [],
   "source": [
    "from matplotlib import pyplot as plt\n",
    "import numpy as np"
   ]
  },
  {
   "cell_type": "code",
   "execution_count": 3,
   "metadata": {
    "collapsed": true
   },
   "outputs": [],
   "source": [
    "# each point is height, weight, shoe-size & gender (0.1)\n",
    "# 0 for male and 1 for female\n",
    "data = [[1.81, 0.80, 0.44, 0],\n",
    "        [1.77, 0.70, 0.43, 0],\n",
    "        [1.60, 0.60, 0.38, 1],\n",
    "        [1.54, 0.54, 0.37, 1],\n",
    "        [1.66, 0.65, 0.40, 0],\n",
    "        [1.90, 0.90, 0.47, 0],\n",
    "        [1.75, 0.64, 0.39, 1],\n",
    "        [1.77, 0.70, 0.40, 1],\n",
    "        [1.59, 0.55, 0.37, 1],\n",
    "        [1.71, 0.75, 0.42, 0],\n",
    "        [1.81, 0.85, 0.43, 0]]\n",
    "\n",
    "mystery_person = [1.63, 0.60, 0.37]"
   ]
  },
  {
   "cell_type": "code",
   "execution_count": 4,
   "metadata": {
    "collapsed": true
   },
   "outputs": [],
   "source": [
    "def sigmoid(x) :\n",
    "    return 1/(1 + np.exp(-x))\n",
    "\n",
    "def sigmoid_p(x) :\n",
    "    return sigmoid(x) * (1-sigmoid(x))"
   ]
  },
  {
   "cell_type": "code",
   "execution_count": 5,
   "metadata": {},
   "outputs": [
    {
     "data": {
      "text/plain": [
       "[<matplotlib.lines.Line2D at 0x1f99d178a58>]"
      ]
     },
     "execution_count": 5,
     "metadata": {},
     "output_type": "execute_result"
    },
    {
     "data": {
      "image/png": "[encoded data removed]",
      "text/plain": [
       "<matplotlib.figure.Figure at 0x1f99b9e9898>"
      ]
     },
     "metadata": {},
     "output_type": "display_data"
    }
   ],
   "source": [
    "# training loop\n",
    "learning_rate = 0.2\n",
    "costs = []\n",
    "\n",
    "w1 = np.random.randn()\n",
    "w2 = np.random.randn()\n",
    "w3 = np.random.randn()\n",
    "b = np.random.randn()\n",
    "\n",
    "for i in range(100000000) :\n",
    "    ri = np.random.randint(len(data))\n",
    "    point = data[ri]\n",
    "    \n",
    "    z = point[0] * w1 + point[1] * w2 + point[2] * w3 + b\n",
    "    prediction = sigmoid(z)\n",
    "    \n",
    "    target = point[3]\n",
    "    cost = np.square(prediction - target)\n",
    "    \n",
    "    dcost_prediction = 2 * (prediction - target)\n",
    "    dprediction_dz = sigmoid_p(z)\n",
    "    \n",
    "    dz_dw1 = point[0]\n",
    "    dz_dw2 = point[1]\n",
    "    dz_dw3 = point[2]\n",
    "    dz_db = 1\n",
    "    \n",
    "    dcost_dz = dcost_prediction * dprediction_dz\n",
    "    \n",
    "    dcost_dw1 = dcost_dz * dz_dw1\n",
    "    dcost_dw2 = dcost_dz * dz_dw2\n",
    "    dcost_dw3 = dcost_dz * dz_dw3\n",
    "    dcost_db = dcost_dz * dz_db\n",
    "    \n",
    "    w1 = w1 - learning_rate * dcost_dw1\n",
    "    w2 = w2 - learning_rate * dcost_dw2\n",
    "    w3 = w3 - learning_rate * dcost_dw3\n",
    "    b = b - learning_rate * dcost_db\n",
    "    \n",
    "    if i % 100 == 0 :\n",
    "        cost_sum = 0\n",
    "        for j in range(len(data)) :\n",
    "            point = data[ri]\n",
    "            \n",
    "            z = point[0] * w1 + point[1] * w2 + point[2] * w3 + b\n",
    "            prediction = sigmoid(z)\n",
    "            \n",
    "            target = point[3]\n",
    "            cost_sum += np.square(prediction - target)\n",
    "            \n",
    "        costs.append(cost_sum/len(data))\n",
    "\n",
    "plt.plot(costs)"
   ]
  },
  {
   "cell_type": "code",
   "execution_count": 6,
   "metadata": {},
   "outputs": [
    {
     "name": "stdout",
     "output_type": "stream",
     "text": [
      "[1.81, 0.8, 0.44, 0]\n",
      "prediction : 6.623984447566355e-11\n",
      "[1.77, 0.7, 0.43, 0]\n",
      "prediction : 0.003603770271667386\n",
      "[1.6, 0.6, 0.38, 1]\n",
      "prediction : 0.9759478362611343\n",
      "[1.54, 0.54, 0.37, 1]\n",
      "prediction : 0.9999445043421884\n",
      "[1.66, 0.65, 0.4, 0]\n",
      "prediction : 0.03091078180040532\n",
      "[1.9, 0.9, 0.47, 0]\n",
      "prediction : 7.362207580238131e-18\n",
      "[1.75, 0.64, 0.39, 1]\n",
      "prediction : 0.9999999311178956\n",
      "[1.77, 0.7, 0.4, 1]\n",
      "prediction : 0.9798259874805646\n",
      "[1.59, 0.55, 0.37, 1]\n",
      "prediction : 0.9999998656937445\n",
      "[1.71, 0.75, 0.42, 0]\n",
      "prediction : 1.2518522507678595e-10\n",
      "[1.81, 0.85, 0.43, 0]\n",
      "prediction : 4.0039259735179463e-14\n"
     ]
    }
   ],
   "source": [
    "# prediction\n",
    "for i in range(len(data)) :\n",
    "    point = data[i]\n",
    "    print(point)\n",
    "    \n",
    "    z = point[0] * w1 + point[1] * w2 + point[2] * w3 + b\n",
    "    prediction = sigmoid(z)\n",
    "    print(\"prediction : {}\" .format(prediction))"
   ]
  },
  {
   "cell_type": "code",
   "execution_count": 7,
   "metadata": {},
   "outputs": [
    {
     "data": {
      "text/plain": [
       "0.99999215407326159"
      ]
     },
     "execution_count": 7,
     "metadata": {},
     "output_type": "execute_result"
    }
   ],
   "source": [
    "z = mystery_person[0] * w1 + mystery_person[1] * w2 + mystery_person[2] * w3 + b\n",
    "prediction = sigmoid(z)\n",
    "prediction"
   ]
  },
  {
   "cell_type": "code",
   "execution_count": 12,
   "metadata": {
    "collapsed": true
   },
   "outputs": [],
   "source": [
    "def guess_gender(height, weight, shoe_size) :\n",
    "    z = height * w1 + weight * w2 + shoe_size * w3 + b\n",
    "    prediction = sigmoid(z)\n",
    "    if prediction < .5:\n",
    "        print('male')\n",
    "    else:\n",
    "        print('female')"
   ]
  },
  {
   "cell_type": "code",
   "execution_count": 21,
   "metadata": {},
   "outputs": [
    {
     "name": "stdout",
     "output_type": "stream",
     "text": [
      "male\n"
     ]
    }
   ],
   "source": [
    "guess_gender(1.85, 0.82, 0.43)"
   ]
  },
  {
   "cell_type": "code",
   "execution_count": null,
   "metadata": {
    "collapsed": true
   },
   "outputs": [],
   "source": []
  }
 ],
 "metadata": {
  "kernelspec": {
   "display_name": "Python 3",
   "language": "python",
   "name": "python3"
  },
  "language_info": {
   "codemirror_mode": {
    "name": "ipython",
    "version": 3
   },
   "file_extension": ".py",
   "mimetype": "text/x-python",
   "name": "python",
   "nbconvert_exporter": "python",
   "pygments_lexer": "ipython3",
   "version": "3.5.2"
  }
 },
 "nbformat": 4,
 "nbformat_minor": 2
}
